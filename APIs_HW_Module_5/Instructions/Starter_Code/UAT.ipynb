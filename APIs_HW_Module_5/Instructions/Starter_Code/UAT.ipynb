{
 "cells": [
  {
   "cell_type": "code",
   "execution_count": 23,
   "id": "08aed194-5949-4078-9fb4-d8ad43c18a4e",
   "metadata": {},
   "outputs": [
    {
     "name": "stdout",
     "output_type": "stream",
     "text": [
      "1650.29\n"
     ]
    }
   ],
   "source": [
    "eth_ddata = {\n",
    "    \"data\": {\n",
    "        \"1027\": {\n",
    "            \"id\": 1027,\n",
    "            \"name\": \"Ethereum\",\n",
    "            \"symbol\": \"ETH\",\n",
    "            \"website_slug\": \"ethereum\",\n",
    "            \"rank\": 2,\n",
    "            \"circulating_supply\": 120217444,\n",
    "            \"total_supply\": 120217444,\n",
    "            \"max_supply\": 120217444,\n",
    "            \"quotes\": {\n",
    "                \"USD\": {\n",
    "                    \"price\": 1650.29,\n",
    "                    \"volume_24h\": 10712898333,\n",
    "                    \"market_cap\": 198481096350,\n",
    "                    \"percentage_change_1h\": 0.625157813853473,\n",
    "                    \"percentage_change_24h\": -5.02345791495112,\n",
    "                    \"percentage_change_7d\": -10.5298939521847,\n",
    "                    \"percent_change_1h\": 0.625157813853473,\n",
    "                    \"percent_change_24h\": -5.02345791495112,\n",
    "                    \"percent_change_7d\": -10.5298939521847\n",
    "                }\n",
    "            },\n",
    "            \"last_updated\": 1686854663\n",
    "        }\n",
    "    },\n",
    "    \"metadata\": {\n",
    "        \"timestamp\": 1686854663,\n",
    "        \"num_cryptocurrencies\": 3119,\n",
    "        \"error\": \"null\"\n",
    "    }\n",
    "}\n",
    "\n",
    "print(eth_data['data']['1027']['quotes']['USD']['price'])\n"
   ]
  },
  {
   "cell_type": "code",
   "execution_count": 26,
   "id": "6503bc7a-f556-4d20-98ec-f7f39c1e5399",
   "metadata": {},
   "outputs": [
    {
     "name": "stdout",
     "output_type": "stream",
     "text": [
      "25386.0\n"
     ]
    }
   ],
   "source": [
    "btc_data = {\n",
    "    \"data\": {\n",
    "        \"1\": {\n",
    "            \"id\": 1,\n",
    "            \"name\": \"Bitcoin\",\n",
    "            \"symbol\": \"BTC\",\n",
    "            \"website_slug\": \"bitcoin\",\n",
    "            \"rank\": 1,\n",
    "            \"circulating_supply\": 19403087,\n",
    "            \"total_supply\": 19403087,\n",
    "            \"max_supply\": 21000000,\n",
    "            \"quotes\": {\n",
    "                \"USD\": {\n",
    "                    \"price\": 25386.0,\n",
    "                    \"volume_24h\": 17611486163,\n",
    "                    \"market_cap\": 493082536601,\n",
    "                    \"percentage_change_1h\": 1.11173571129539,\n",
    "                    \"percentage_change_24h\": -2.1315695355976,\n",
    "                    \"percentage_change_7d\": -4.30435272316121,\n",
    "                    \"percent_change_1h\": 1.11173571129539,\n",
    "                    \"percent_change_24h\": -2.1315695355976,\n",
    "                    \"percent_change_7d\": -4.30435272316121\n",
    "                }\n",
    "            },\n",
    "            \"last_updated\": 1686857095\n",
    "        }\n",
    "    },\n",
    "    \"metadata\": {\n",
    "        \"timestamp\": 1686857095,\n",
    "        \"num_cryptocurrencies\": 3119,\n",
    "        \"error\": \"null\"\n",
    "    }\n",
    "}\n",
    "\n",
    "print(btc_data['data']['1']['quotes']['USD']['price'])"
   ]
  },
  {
   "cell_type": "code",
   "execution_count": null,
   "id": "2933766d-09ed-4677-9129-895540c454bb",
   "metadata": {},
   "outputs": [],
   "source": []
  },
  {
   "cell_type": "code",
   "execution_count": null,
   "id": "c557ab6f-a6f0-43e3-9b28-9850773035bd",
   "metadata": {},
   "outputs": [],
   "source": []
  }
 ],
 "metadata": {
  "kernelspec": {
   "display_name": "Python 3 (ipykernel)",
   "language": "python",
   "name": "python3"
  },
  "language_info": {
   "codemirror_mode": {
    "name": "ipython",
    "version": 3
   },
   "file_extension": ".py",
   "mimetype": "text/x-python",
   "name": "python",
   "nbconvert_exporter": "python",
   "pygments_lexer": "ipython3",
   "version": "3.10.11"
  }
 },
 "nbformat": 4,
 "nbformat_minor": 5
}
